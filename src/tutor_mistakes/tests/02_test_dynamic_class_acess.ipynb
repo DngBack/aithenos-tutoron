{
 "cells": [
  {
   "cell_type": "code",
   "execution_count": null,
   "metadata": {},
   "outputs": [],
   "source": [
    "from shared.models import Tutor\n",
    "from shared.models import TutorDetails"
   ]
  },
  {
   "cell_type": "code",
   "execution_count": 3,
   "metadata": {},
   "outputs": [
    {
     "name": "stdout",
     "output_type": "stream",
     "text": [
      "Tutor.HINT\n",
      "In this mode, instead of giving the result and solution directly,         you often give suggestions about where the user's solution is wrong         (the suggestion here is which step is wrong, give the correct theory and compare it with the step where the user is wrong).\n"
     ]
    }
   ],
   "source": [
    "# Using Dictionary for mapping\n",
    "tutor_mapping = {\n",
    "    Tutor.HINT: TutorDetails.HINT,\n",
    "    Tutor.DETAILS: TutorDetails.DETAILS,\n",
    "    Tutor.ANSWER: TutorDetails.ANSWER,\n",
    "}\n",
    "\n",
    "mode = Tutor.HINT  # Example: selecting a mode\n",
    "description = tutor_mapping[mode]\n",
    "\n",
    "print(mode)         # Output: Tutor.HINT\n",
    "print(description.value)  # Output: Corresponding description from TutorDetails"
   ]
  },
  {
   "cell_type": "code",
   "execution_count": 4,
   "metadata": {},
   "outputs": [
    {
     "name": "stdout",
     "output_type": "stream",
     "text": [
      "Tutor.HINT\n",
      "TutorDetails.HINT\n"
     ]
    }
   ],
   "source": [
    "# Using TutorDetails for Dynamically \n",
    "mode = Tutor.HINT  # Example: selecting a mode\n",
    "description = getattr(TutorDetails, mode.name)  # Dynamically get the description\n",
    "\n",
    "print(mode)         # Output: Tutor.HINT\n",
    "print(description)  # Output: Corresponding description from TutorDetails"
   ]
  }
 ],
 "metadata": {
  "kernelspec": {
   "display_name": "tutoron",
   "language": "python",
   "name": "python3"
  },
  "language_info": {
   "codemirror_mode": {
    "name": "ipython",
    "version": 3
   },
   "file_extension": ".py",
   "mimetype": "text/x-python",
   "name": "python",
   "nbconvert_exporter": "python",
   "pygments_lexer": "ipython3",
   "version": "3.10.16"
  }
 },
 "nbformat": 4,
 "nbformat_minor": 2
}
