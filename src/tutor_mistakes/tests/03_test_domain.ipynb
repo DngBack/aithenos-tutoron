{
 "cells": [
  {
   "cell_type": "code",
   "execution_count": 1,
   "metadata": {},
   "outputs": [],
   "source": [
    "from domain.tutor_response import TutorInput\n",
    "from domain.tutor_response import TutorService\n",
    "\n",
    "from infra.llm_service import OpenAIService\n",
    "\n",
    "from shared.models import Tutor\n",
    "from shared.models import TutorMode"
   ]
  },
  {
   "cell_type": "code",
   "execution_count": 2,
   "metadata": {},
   "outputs": [],
   "source": [
    "from shared.settings import load_settings\n",
    "\n",
    "\n",
    "settings = load_settings()\n",
    "\n",
    "\n",
    "openai_service = OpenAIService(\n",
    "    settings=settings.openai\n",
    ")"
   ]
  },
  {
   "cell_type": "code",
   "execution_count": 3,
   "metadata": {},
   "outputs": [],
   "source": [
    "tutor_service = TutorService(llm_service=openai_service)"
   ]
  },
  {
   "cell_type": "code",
   "execution_count": 4,
   "metadata": {},
   "outputs": [],
   "source": [
    "tutor_response = tutor_service.process( \n",
    "    TutorInput(exercise=\"Tìm x: x = |2|\",\n",
    "                correct_answer= \"x = 2 hoặc x = -2 do dấu giá trị tuyệt đối.\",\n",
    "                user_answer= \"x = 2 vì trị tuyệt đối của 2 là 2\",\n",
    "                tutor= Tutor.DETAILS,\n",
    "                tutor_mode= TutorMode.FRIENDLY)\n",
    ")"
   ]
  },
  {
   "cell_type": "code",
   "execution_count": 5,
   "metadata": {},
   "outputs": [
    {
     "name": "stdout",
     "output_type": "stream",
     "text": [
      "Chào bạn! Cảm ơn bạn đã làm bài tập này. Hãy cùng xem xét câu trả lời của bạn nhé!\n",
      "\n",
      "Bạn đã viết: \"x = 2 vì trị tuyệt đối của 2 là 2.\" Điều này là đúng, nhưng có một điểm quan trọng mà bạn cần lưu ý về giá trị tuyệt đối. \n",
      "\n",
      "Khi bạn giải phương trình x = |2|, giá trị tuyệt đối của 2 là 2, nhưng điều này cũng có nghĩa là x có thể là -2. Do đó, câu trả lời chính xác là \"x = 2 hoặc x = -2 do dấu giá trị tuyệt đối.\"\n",
      "\n",
      "Một số điểm cần nhớ:\n",
      "- Giá trị tuyệt đối của một số a, ký hiệu là |a|, luôn cho ra một số không âm. \n",
      "- Khi bạn có một phương trình dạng x = |a|, bạn cần xem xét cả hai trường hợp: x = a và x = -a.\n",
      "\n",
      "Hãy thử lại với điều này trong tâm trí nhé! Bạn có thể viết lại câu trả lời của mình không? Mình tin bạn sẽ làm được!\n"
     ]
    }
   ],
   "source": [
    "print(tutor_response.response)"
   ]
  },
  {
   "cell_type": "code",
   "execution_count": null,
   "metadata": {},
   "outputs": [],
   "source": []
  }
 ],
 "metadata": {
  "kernelspec": {
   "display_name": "tutoron",
   "language": "python",
   "name": "python3"
  },
  "language_info": {
   "codemirror_mode": {
    "name": "ipython",
    "version": 3
   },
   "file_extension": ".py",
   "mimetype": "text/x-python",
   "name": "python",
   "nbconvert_exporter": "python",
   "pygments_lexer": "ipython3",
   "version": "3.10.16"
  }
 },
 "nbformat": 4,
 "nbformat_minor": 2
}
